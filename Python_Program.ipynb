{
  "nbformat": 4,
  "nbformat_minor": 0,
  "metadata": {
    "colab": {
      "name": "Python Program.ipynb",
      "provenance": [],
      "authorship_tag": "ABX9TyMtuJNT3n+BJoukKzCxxgHB",
      "include_colab_link": true
    },
    "kernelspec": {
      "name": "python3",
      "display_name": "Python 3"
    }
  },
  "cells": [
    {
      "cell_type": "markdown",
      "metadata": {
        "id": "view-in-github",
        "colab_type": "text"
      },
      "source": [
        "<a href=\"https://colab.research.google.com/github/Priya-s-k/ML-LAB-7th-SEM-CSE/blob/master/Python_Program.ipynb\" target=\"_parent\"><img src=\"https://colab.research.google.com/assets/colab-badge.svg\" alt=\"Open In Colab\"/></a>"
      ]
    },
    {
      "cell_type": "markdown",
      "metadata": {
        "id": "yHIyhb_78Jb3",
        "colab_type": "text"
      },
      "source": [
        "# Write a Python program which accepts the user's first and last name and print them in reverse order with a space between them"
      ]
    },
    {
      "cell_type": "code",
      "metadata": {
        "id": "Dou-RniJ8HO4",
        "colab_type": "code",
        "colab": {
          "base_uri": "https://localhost:8080/",
          "height": 68
        },
        "outputId": "d286b982-6794-4ab5-c62a-51930b2c506e"
      },
      "source": [
        "fname = input(\"Input your First Name : \")\n",
        "lname = input(\"Input your Last Name : \")\n",
        "print (\"\" + lname + \" \" + fname)"
      ],
      "execution_count": 3,
      "outputs": [
        {
          "output_type": "stream",
          "text": [
            "Input your First Name : Priyanka\n",
            "Input your Last Name : Killedar\n",
            "Killedar Priyanka\n"
          ],
          "name": "stdout"
        }
      ]
    },
    {
      "cell_type": "markdown",
      "metadata": {
        "id": "8KTtW8WA8f63",
        "colab_type": "text"
      },
      "source": [
        "# Write a Python program to calculate number of days between two dates."
      ]
    },
    {
      "cell_type": "code",
      "metadata": {
        "id": "2AbEk06G8j-_",
        "colab_type": "code",
        "colab": {
          "base_uri": "https://localhost:8080/",
          "height": 136
        },
        "outputId": "3e0fcd8d-1e01-4b7b-dfe1-52d062e4d538"
      },
      "source": [
        "from datetime import date\n",
        "y1=int(input(\"enter year1: \"))\n",
        "m1=int(input(\"enter month1: \"))\n",
        "d1=int(input(\"enter date1: \"))\n",
        "y2=int(input(\"enter year2: \"))\n",
        "m2=int(input(\"enter month2: \"))\n",
        "d2=int(input(\"enter date2: \"))\n",
        "f_date = date(y1, m1, d1)\n",
        "l_date = date(y2, m2, d2)\n",
        "delta = l_date - f_date\n",
        "print(delta.days)"
      ],
      "execution_count": 2,
      "outputs": [
        {
          "output_type": "stream",
          "text": [
            "enter year1: 2018\n",
            "enter month1: 3\n",
            "enter date1: 25\n",
            "enter year2: 2019\n",
            "enter month2: 3\n",
            "enter date2: 25\n",
            "365\n"
          ],
          "name": "stdout"
        }
      ]
    },
    {
      "cell_type": "markdown",
      "metadata": {
        "id": "8Ehk00ndDXGL",
        "colab_type": "text"
      },
      "source": [
        "# Write a Python program to test whether a passed letter is a vowel or not\n"
      ]
    },
    {
      "cell_type": "code",
      "metadata": {
        "id": "YE1_nrwjDjSa",
        "colab_type": "code",
        "colab": {
          "base_uri": "https://localhost:8080/",
          "height": 51
        },
        "outputId": "f25e27ef-4cec-4d85-d4fa-1a76db58c05c"
      },
      "source": [
        "def is_vowel(char):\n",
        "    all_vowels = 'aeiou'\n",
        "    return char in all_vowels\n",
        "ch=input(\"enter character: \")\n",
        "print(is_vowel(ch))\n",
        "\n"
      ],
      "execution_count": 3,
      "outputs": [
        {
          "output_type": "stream",
          "text": [
            "enter character: a\n",
            "True\n"
          ],
          "name": "stdout"
        }
      ]
    },
    {
      "cell_type": "markdown",
      "metadata": {
        "id": "NFRRz3p2EJEG",
        "colab_type": "text"
      },
      "source": [
        "# Write a Python program to sum of three given integers. However, if two values are equal sum will be zero."
      ]
    },
    {
      "cell_type": "code",
      "metadata": {
        "id": "4OrOkUqdERR3",
        "colab_type": "code",
        "colab": {
          "base_uri": "https://localhost:8080/",
          "height": 85
        },
        "outputId": "39dbbf1e-9b6d-455e-d657-2233dc8de4c2"
      },
      "source": [
        "def sum(x, y, z):\n",
        "    if x == y or y == z or x==z:\n",
        "        sum = 0\n",
        "    else:\n",
        "        sum = x + y + z\n",
        "    return sum\n",
        "x=int(input(\"enter 1st num : \"))\n",
        "y=int(input(\"enter 2nd num : \"))\n",
        "z=int(input(\"enter 3rd num : \"))\n",
        "print(sum(x, y, z))"
      ],
      "execution_count": 1,
      "outputs": [
        {
          "output_type": "stream",
          "text": [
            "enter 1st num : 5\n",
            "enter 2nd num : 3\n",
            "enter 3rd num : 5\n",
            "0\n"
          ],
          "name": "stdout"
        }
      ]
    },
    {
      "cell_type": "markdown",
      "metadata": {
        "id": "OQNpv48uEtL-",
        "colab_type": "text"
      },
      "source": [
        "# Write a Python program to count the number of characters (character frequency) in a string."
      ]
    },
    {
      "cell_type": "code",
      "metadata": {
        "id": "hi8HX5H5ExWM",
        "colab_type": "code",
        "colab": {
          "base_uri": "https://localhost:8080/",
          "height": 51
        },
        "outputId": "116b3500-7442-43a1-e9d9-5207c02f319a"
      },
      "source": [
        "def char_frequency(str1):\n",
        "    dict = {}\n",
        "    for n in str1:\n",
        "        keys = dict.keys()\n",
        "        if n in keys:\n",
        "            dict[n] += 1\n",
        "        else:\n",
        "            dict[n] = 1\n",
        "    return dict\n",
        "ch=input(\"enter string : \")\n",
        "print(char_frequency(ch))\n"
      ],
      "execution_count": 2,
      "outputs": [
        {
          "output_type": "stream",
          "text": [
            "enter string : pythonprogram\n",
            "{'p': 2, 'y': 1, 't': 1, 'h': 1, 'o': 2, 'n': 1, 'r': 2, 'g': 1, 'a': 1, 'm': 1}\n"
          ],
          "name": "stdout"
        }
      ]
    }
  ]
}